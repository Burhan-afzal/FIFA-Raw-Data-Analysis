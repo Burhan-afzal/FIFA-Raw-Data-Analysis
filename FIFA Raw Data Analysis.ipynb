{
 "cells": [
  {
   "cell_type": "code",
   "execution_count": 1,
   "id": "90a55900-cf08-4a00-bdba-9e11d54d47a3",
   "metadata": {},
   "outputs": [],
   "source": [
    "import numpy as np\n",
    "import pandas as pd\n",
    "from matplotlib import pyplot as plt\n",
    "import seaborn as sns"
   ]
  },
  {
   "cell_type": "markdown",
   "id": "d2454b2f-b456-453e-b476-7f53dfdfe943",
   "metadata": {},
   "source": [
    "# Load the Dataset"
   ]
  },
  {
   "cell_type": "code",
   "execution_count": 3,
   "id": "bac3c3c0-ab0b-4329-ab13-bdb237325127",
   "metadata": {},
   "outputs": [
    {
     "name": "stderr",
     "output_type": "stream",
     "text": [
      "C:\\Users\\Burhan\\AppData\\Local\\Temp\\ipykernel_13428\\235989469.py:1: DtypeWarning: Columns (76) have mixed types. Specify dtype option on import or set low_memory=False.\n",
      "  df = pd.read_csv('fifa21 raw data v2.csv')\n"
     ]
    }
   ],
   "source": [
    "df = pd.read_csv('fifa21 raw data v2.csv')"
   ]
  },
  {
   "cell_type": "code",
   "execution_count": 4,
   "id": "e55c8770-19e4-4b98-97db-0a2826bfbe5e",
   "metadata": {},
   "outputs": [
    {
     "data": {
      "text/html": [
       "<div>\n",
       "<style scoped>\n",
       "    .dataframe tbody tr th:only-of-type {\n",
       "        vertical-align: middle;\n",
       "    }\n",
       "\n",
       "    .dataframe tbody tr th {\n",
       "        vertical-align: top;\n",
       "    }\n",
       "\n",
       "    .dataframe thead th {\n",
       "        text-align: right;\n",
       "    }\n",
       "</style>\n",
       "<table border=\"1\" class=\"dataframe\">\n",
       "  <thead>\n",
       "    <tr style=\"text-align: right;\">\n",
       "      <th></th>\n",
       "      <th>ID</th>\n",
       "      <th>Name</th>\n",
       "      <th>LongName</th>\n",
       "      <th>photoUrl</th>\n",
       "      <th>playerUrl</th>\n",
       "      <th>Nationality</th>\n",
       "      <th>Age</th>\n",
       "      <th>↓OVA</th>\n",
       "      <th>POT</th>\n",
       "      <th>Club</th>\n",
       "      <th>...</th>\n",
       "      <th>A/W</th>\n",
       "      <th>D/W</th>\n",
       "      <th>IR</th>\n",
       "      <th>PAC</th>\n",
       "      <th>SHO</th>\n",
       "      <th>PAS</th>\n",
       "      <th>DRI</th>\n",
       "      <th>DEF</th>\n",
       "      <th>PHY</th>\n",
       "      <th>Hits</th>\n",
       "    </tr>\n",
       "  </thead>\n",
       "  <tbody>\n",
       "    <tr>\n",
       "      <th>0</th>\n",
       "      <td>158023</td>\n",
       "      <td>L. Messi</td>\n",
       "      <td>Lionel Messi</td>\n",
       "      <td>https://cdn.sofifa.com/players/158/023/21_60.png</td>\n",
       "      <td>http://sofifa.com/player/158023/lionel-messi/2...</td>\n",
       "      <td>Argentina</td>\n",
       "      <td>33</td>\n",
       "      <td>93</td>\n",
       "      <td>93</td>\n",
       "      <td>\\n\\n\\n\\nFC Barcelona</td>\n",
       "      <td>...</td>\n",
       "      <td>Medium</td>\n",
       "      <td>Low</td>\n",
       "      <td>5 ★</td>\n",
       "      <td>85</td>\n",
       "      <td>92</td>\n",
       "      <td>91</td>\n",
       "      <td>95</td>\n",
       "      <td>38</td>\n",
       "      <td>65</td>\n",
       "      <td>771</td>\n",
       "    </tr>\n",
       "    <tr>\n",
       "      <th>1</th>\n",
       "      <td>20801</td>\n",
       "      <td>Cristiano Ronaldo</td>\n",
       "      <td>C. Ronaldo dos Santos Aveiro</td>\n",
       "      <td>https://cdn.sofifa.com/players/020/801/21_60.png</td>\n",
       "      <td>http://sofifa.com/player/20801/c-ronaldo-dos-s...</td>\n",
       "      <td>Portugal</td>\n",
       "      <td>35</td>\n",
       "      <td>92</td>\n",
       "      <td>92</td>\n",
       "      <td>\\n\\n\\n\\nJuventus</td>\n",
       "      <td>...</td>\n",
       "      <td>High</td>\n",
       "      <td>Low</td>\n",
       "      <td>5 ★</td>\n",
       "      <td>89</td>\n",
       "      <td>93</td>\n",
       "      <td>81</td>\n",
       "      <td>89</td>\n",
       "      <td>35</td>\n",
       "      <td>77</td>\n",
       "      <td>562</td>\n",
       "    </tr>\n",
       "    <tr>\n",
       "      <th>2</th>\n",
       "      <td>200389</td>\n",
       "      <td>J. Oblak</td>\n",
       "      <td>Jan Oblak</td>\n",
       "      <td>https://cdn.sofifa.com/players/200/389/21_60.png</td>\n",
       "      <td>http://sofifa.com/player/200389/jan-oblak/210006/</td>\n",
       "      <td>Slovenia</td>\n",
       "      <td>27</td>\n",
       "      <td>91</td>\n",
       "      <td>93</td>\n",
       "      <td>\\n\\n\\n\\nAtlético Madrid</td>\n",
       "      <td>...</td>\n",
       "      <td>Medium</td>\n",
       "      <td>Medium</td>\n",
       "      <td>3 ★</td>\n",
       "      <td>87</td>\n",
       "      <td>92</td>\n",
       "      <td>78</td>\n",
       "      <td>90</td>\n",
       "      <td>52</td>\n",
       "      <td>90</td>\n",
       "      <td>150</td>\n",
       "    </tr>\n",
       "    <tr>\n",
       "      <th>3</th>\n",
       "      <td>192985</td>\n",
       "      <td>K. De Bruyne</td>\n",
       "      <td>Kevin De Bruyne</td>\n",
       "      <td>https://cdn.sofifa.com/players/192/985/21_60.png</td>\n",
       "      <td>http://sofifa.com/player/192985/kevin-de-bruyn...</td>\n",
       "      <td>Belgium</td>\n",
       "      <td>29</td>\n",
       "      <td>91</td>\n",
       "      <td>91</td>\n",
       "      <td>\\n\\n\\n\\nManchester City</td>\n",
       "      <td>...</td>\n",
       "      <td>High</td>\n",
       "      <td>High</td>\n",
       "      <td>4 ★</td>\n",
       "      <td>76</td>\n",
       "      <td>86</td>\n",
       "      <td>93</td>\n",
       "      <td>88</td>\n",
       "      <td>64</td>\n",
       "      <td>78</td>\n",
       "      <td>207</td>\n",
       "    </tr>\n",
       "    <tr>\n",
       "      <th>4</th>\n",
       "      <td>190871</td>\n",
       "      <td>Neymar Jr</td>\n",
       "      <td>Neymar da Silva Santos Jr.</td>\n",
       "      <td>https://cdn.sofifa.com/players/190/871/21_60.png</td>\n",
       "      <td>http://sofifa.com/player/190871/neymar-da-silv...</td>\n",
       "      <td>Brazil</td>\n",
       "      <td>28</td>\n",
       "      <td>91</td>\n",
       "      <td>91</td>\n",
       "      <td>\\n\\n\\n\\nParis Saint-Germain</td>\n",
       "      <td>...</td>\n",
       "      <td>High</td>\n",
       "      <td>Medium</td>\n",
       "      <td>5 ★</td>\n",
       "      <td>91</td>\n",
       "      <td>85</td>\n",
       "      <td>86</td>\n",
       "      <td>94</td>\n",
       "      <td>36</td>\n",
       "      <td>59</td>\n",
       "      <td>595</td>\n",
       "    </tr>\n",
       "  </tbody>\n",
       "</table>\n",
       "<p>5 rows × 77 columns</p>\n",
       "</div>"
      ],
      "text/plain": [
       "       ID               Name                      LongName  \\\n",
       "0  158023           L. Messi                  Lionel Messi   \n",
       "1   20801  Cristiano Ronaldo  C. Ronaldo dos Santos Aveiro   \n",
       "2  200389           J. Oblak                     Jan Oblak   \n",
       "3  192985       K. De Bruyne               Kevin De Bruyne   \n",
       "4  190871          Neymar Jr    Neymar da Silva Santos Jr.   \n",
       "\n",
       "                                           photoUrl  \\\n",
       "0  https://cdn.sofifa.com/players/158/023/21_60.png   \n",
       "1  https://cdn.sofifa.com/players/020/801/21_60.png   \n",
       "2  https://cdn.sofifa.com/players/200/389/21_60.png   \n",
       "3  https://cdn.sofifa.com/players/192/985/21_60.png   \n",
       "4  https://cdn.sofifa.com/players/190/871/21_60.png   \n",
       "\n",
       "                                           playerUrl Nationality  Age  ↓OVA  \\\n",
       "0  http://sofifa.com/player/158023/lionel-messi/2...   Argentina   33    93   \n",
       "1  http://sofifa.com/player/20801/c-ronaldo-dos-s...    Portugal   35    92   \n",
       "2  http://sofifa.com/player/200389/jan-oblak/210006/    Slovenia   27    91   \n",
       "3  http://sofifa.com/player/192985/kevin-de-bruyn...     Belgium   29    91   \n",
       "4  http://sofifa.com/player/190871/neymar-da-silv...      Brazil   28    91   \n",
       "\n",
       "   POT                         Club  ...     A/W     D/W   IR PAC SHO  PAS  \\\n",
       "0   93         \\n\\n\\n\\nFC Barcelona  ...  Medium     Low  5 ★  85  92   91   \n",
       "1   92             \\n\\n\\n\\nJuventus  ...    High     Low  5 ★  89  93   81   \n",
       "2   93      \\n\\n\\n\\nAtlético Madrid  ...  Medium  Medium  3 ★  87  92   78   \n",
       "3   91      \\n\\n\\n\\nManchester City  ...    High    High  4 ★  76  86   93   \n",
       "4   91  \\n\\n\\n\\nParis Saint-Germain  ...    High  Medium  5 ★  91  85   86   \n",
       "\n",
       "  DRI DEF PHY Hits  \n",
       "0  95  38  65  771  \n",
       "1  89  35  77  562  \n",
       "2  90  52  90  150  \n",
       "3  88  64  78  207  \n",
       "4  94  36  59  595  \n",
       "\n",
       "[5 rows x 77 columns]"
      ]
     },
     "execution_count": 4,
     "metadata": {},
     "output_type": "execute_result"
    }
   ],
   "source": [
    "df.head(5)\n"
   ]
  },
  {
   "cell_type": "markdown",
   "id": "6e76f9bf-13cd-41de-b0ce-dc2fe969d3b6",
   "metadata": {},
   "source": [
    "# Explore the Data"
   ]
  },
  {
   "cell_type": "code",
   "execution_count": 6,
   "id": "5a2dcb8f-8a2f-46df-be30-8307c05e0e66",
   "metadata": {},
   "outputs": [
    {
     "data": {
      "text/plain": [
       "Loan Date End    17966\n",
       "Hits              2595\n",
       "dtype: int64"
      ]
     },
     "execution_count": 6,
     "metadata": {},
     "output_type": "execute_result"
    }
   ],
   "source": [
    "# Count of missing values per column\n",
    "missing_values = df.isnull().sum().sort_values(ascending=False)\n",
    "missing_values[missing_values > 0]"
   ]
  },
  {
   "cell_type": "code",
   "execution_count": 7,
   "id": "ae8884fe-e580-4b6d-9a4a-3a0f7c4db3c9",
   "metadata": {},
   "outputs": [
    {
     "data": {
      "text/plain": [
       "ID            int64\n",
       "Name         object\n",
       "LongName     object\n",
       "photoUrl     object\n",
       "playerUrl    object\n",
       "              ...  \n",
       "PAS           int64\n",
       "DRI           int64\n",
       "DEF           int64\n",
       "PHY           int64\n",
       "Hits         object\n",
       "Length: 77, dtype: object"
      ]
     },
     "execution_count": 7,
     "metadata": {},
     "output_type": "execute_result"
    }
   ],
   "source": [
    "# Data types of each column\n",
    "df.dtypes"
   ]
  },
  {
   "cell_type": "code",
   "execution_count": 8,
   "id": "32288576-87a0-46c2-88d7-ca136b92fc9f",
   "metadata": {},
   "outputs": [
    {
     "name": "stdout",
     "output_type": "stream",
     "text": [
      "Unique Height Formats: ['170cm' '187cm' '188cm' '181cm' '175cm' '184cm' '191cm' '178cm' '193cm'\n",
      " '185cm']\n",
      "Unique Weight Formats: ['72kg' '83kg' '87kg' '70kg' '68kg' '80kg' '71kg' '91kg' '73kg' '85kg']\n",
      "Sample Wages: ['€560K' '€220K' '€125K' '€370K' '€270K' '€240K' '€250K' '€160K' '€260K'\n",
      " '€210K']\n",
      "Sample Values: ['€103.5M' '€63M' '€120M' '€129M' '€132M' '€111M' '€120.5M' '€102M'\n",
      " '€185.5M' '€110M']\n"
     ]
    }
   ],
   "source": [
    "# Sample values for columns with known format inconsistencies\n",
    "print(\"Unique Height Formats:\", df['Height'].unique()[:10])\n",
    "print(\"Unique Weight Formats:\", df['Weight'].unique()[:10])\n",
    "print(\"Sample Wages:\", df['Wage'].unique()[:10])\n",
    "print(\"Sample Values:\", df['Value'].unique()[:10])"
   ]
  },
  {
   "cell_type": "code",
   "execution_count": 9,
   "id": "1b815b27-1f6b-4cbd-b499-e97beb8ef109",
   "metadata": {},
   "outputs": [
    {
     "name": "stdout",
     "output_type": "stream",
     "text": [
      "Duplicate Rows: 0\n",
      "Total Columns: 77\n",
      "Column Names:\n",
      " ['ID', 'Name', 'LongName', 'photoUrl', 'playerUrl', 'Nationality', 'Age', '↓OVA', 'POT', 'Club', 'Contract', 'Positions', 'Height', 'Weight', 'Preferred Foot', 'BOV', 'Best Position', 'Joined', 'Loan Date End', 'Value', 'Wage', 'Release Clause', 'Attacking', 'Crossing', 'Finishing', 'Heading Accuracy', 'Short Passing', 'Volleys', 'Skill', 'Dribbling', 'Curve', 'FK Accuracy', 'Long Passing', 'Ball Control', 'Movement', 'Acceleration', 'Sprint Speed', 'Agility', 'Reactions', 'Balance', 'Power', 'Shot Power', 'Jumping', 'Stamina', 'Strength', 'Long Shots', 'Mentality', 'Aggression', 'Interceptions', 'Positioning', 'Vision', 'Penalties', 'Composure', 'Defending', 'Marking', 'Standing Tackle', 'Sliding Tackle', 'Goalkeeping', 'GK Diving', 'GK Handling', 'GK Kicking', 'GK Positioning', 'GK Reflexes', 'Total Stats', 'Base Stats', 'W/F', 'SM', 'A/W', 'D/W', 'IR', 'PAC', 'SHO', 'PAS', 'DRI', 'DEF', 'PHY', 'Hits']\n"
     ]
    }
   ],
   "source": [
    "# Check for duplicate rows\n",
    "duplicate_rows = df.duplicated().sum()\n",
    "print(\"Duplicate Rows:\", duplicate_rows)\n",
    "\n",
    "# List of columns\n",
    "print(\"Total Columns:\", len(df.columns))\n",
    "print(\"Column Names:\\n\", df.columns.tolist())"
   ]
  },
  {
   "cell_type": "markdown",
   "id": "e52d52af-4c0c-4df8-aa15-76342bc47d73",
   "metadata": {},
   "source": [
    "# Handle Missing Values"
   ]
  },
  {
   "cell_type": "code",
   "execution_count": 11,
   "id": "302e67e3-198c-48bb-b5ce-98348b1d2e05",
   "metadata": {},
   "outputs": [],
   "source": [
    "# Make a copy to clean\n",
    "df_cleaned = df.copy()\n",
    "\n",
    "# Impute numerical columns with median\n",
    "num_cols = df_cleaned.select_dtypes(include=['float64', 'int64']).columns\n",
    "df_cleaned[num_cols] = df_cleaned[num_cols].apply(lambda x: x.fillna(x.median()))\n",
    "\n",
    "# Fill missing categorical values with \"Unknown\"\n",
    "cat_cols = df_cleaned.select_dtypes(include='object').columns\n",
    "df_cleaned[cat_cols] = df_cleaned[cat_cols].fillna(\"Unknown\")"
   ]
  },
  {
   "cell_type": "markdown",
   "id": "0e171ed2-4ae0-4578-9a9d-60ae65ab228e",
   "metadata": {},
   "source": [
    "# Convert height to cm"
   ]
  },
  {
   "cell_type": "code",
   "execution_count": 13,
   "id": "bd5cc91f-9569-43f5-bfb9-d1d7b744def3",
   "metadata": {},
   "outputs": [],
   "source": [
    "def convert_height(height_str):\n",
    "    try:\n",
    "        feet, inches = height_str.split(\"'\")\n",
    "        return round((int(feet) * 30.48) + (int(inches.strip('\"')) * 2.54), 2)\n",
    "    except:\n",
    "        return None\n",
    "\n",
    "df_cleaned['Height(cm)'] = df_cleaned['Height'].apply(convert_height)\n"
   ]
  },
  {
   "cell_type": "markdown",
   "id": "67063767-53dd-4f18-8bce-7ddb2956ff42",
   "metadata": {},
   "source": [
    "# Convert weight from lbs to kg"
   ]
  },
  {
   "cell_type": "code",
   "execution_count": 15,
   "id": "e27de865-b23c-473f-8b21-2a5fb9c18775",
   "metadata": {},
   "outputs": [],
   "source": [
    "df_cleaned['Weight(kg)'] = df_cleaned['Weight'].str.replace('lbs', '', regex=False).str.strip()\n",
    "df_cleaned['Weight(kg)'] = pd.to_numeric(df_cleaned['Weight(kg)'], errors='coerce')"
   ]
  },
  {
   "cell_type": "markdown",
   "id": "797a7560-60b6-4f40-8e1e-39d4e3e7ae6b",
   "metadata": {},
   "source": [
    "# Convert Wage, Value, Release Clause to integers"
   ]
  },
  {
   "cell_type": "code",
   "execution_count": 17,
   "id": "43aff77e-692e-483e-8f4a-344ceb2a3407",
   "metadata": {},
   "outputs": [],
   "source": [
    "def parse_money(val):\n",
    "    if pd.isna(val) or val == 'Unknown':\n",
    "        return None\n",
    "    val = val.replace('€', '').replace('M', '000000').replace('K', '000')\n",
    "    try:\n",
    "        return int(float(val))\n",
    "    except:\n",
    "        return None\n",
    "\n",
    "for col in ['Wage', 'Value', 'Release Clause']:\n",
    "    df_cleaned[col + '(€)'] = df_cleaned[col].apply(parse_money)\n",
    "def parse_money(val):\n",
    "    if pd.isna(val) or val == 'Unknown':\n",
    "        return None\n",
    "    val = val.replace('€', '').replace('M', '000000').replace('K', '000')\n",
    "    try:\n",
    "        return int(float(val))\n",
    "    except:\n",
    "        return None\n",
    "\n",
    "for col in ['Wage', 'Value', 'Release Clause']:\n",
    "    df_cleaned[col + '(€)'] = df_cleaned[col].apply(parse_money)\n"
   ]
  },
  {
   "cell_type": "markdown",
   "id": "22ed33f8-5caf-49ae-9ade-b59d2c09e0f2",
   "metadata": {},
   "source": [
    "# Convert contract year to datetime"
   ]
  },
  {
   "cell_type": "code",
   "execution_count": 19,
   "id": "a381d049-cd62-408d-bb8d-3540b6c15b38",
   "metadata": {},
   "outputs": [
    {
     "name": "stderr",
     "output_type": "stream",
     "text": [
      "C:\\Users\\Burhan\\AppData\\Local\\Temp\\ipykernel_13428\\1356118946.py:5: UserWarning: Could not infer format, so each element will be parsed individually, falling back to `dateutil`. To ensure parsing is consistent and as-expected, please specify a format.\n",
      "  df_cleaned['Contract'] = pd.to_datetime(df_cleaned['Contract'], errors='coerce').dt.date\n"
     ]
    }
   ],
   "source": [
    "# Clean up column name spacing (good practice)\n",
    "df_cleaned.columns = df_cleaned.columns.str.strip()\n",
    "\n",
    "# Convert 'Contract' column to datetime (assuming format like \"2023\" or \"Jun 30, 2023\")\n",
    "df_cleaned['Contract'] = pd.to_datetime(df_cleaned['Contract'], errors='coerce').dt.date\n",
    "\n",
    "# Fill any missing dates with a default\n",
    "df_cleaned['Contract'] = df_cleaned['Contract'].fillna(pd.to_datetime(\"2021-01-01\").date())\n"
   ]
  },
  {
   "cell_type": "markdown",
   "id": "4359632e-f5fe-4c7b-bc31-8ec12a4412ba",
   "metadata": {},
   "source": [
    "# Correct Data Types"
   ]
  },
  {
   "cell_type": "code",
   "execution_count": 21,
   "id": "e04ac8a4-ca38-4ab2-b8e5-3dbdd4f493de",
   "metadata": {},
   "outputs": [],
   "source": [
    "# Convert relevant columns to numeric\n",
    "df_cleaned['Age'] = pd.to_numeric(df_cleaned['Age'], errors='coerce', downcast='integer')\n",
    "df_cleaned['Wage(€)'] = pd.to_numeric(df_cleaned['Wage(€)'], errors='coerce')\n",
    "df_cleaned['Value(€)'] = pd.to_numeric(df_cleaned['Value(€)'], errors='coerce')\n",
    "\n",
    "# Ensure categorical columns are strings\n",
    "cat_cols = ['Name', 'Nationality', 'Club', 'Preferred Foot', 'Positions']\n",
    "for col in cat_cols:\n",
    "    df_cleaned[col] = df_cleaned[col].astype(str)"
   ]
  },
  {
   "cell_type": "markdown",
   "id": "c0b3413c-5876-411b-ae90-582ff9a626ad",
   "metadata": {},
   "source": [
    "# Remove Redundancies"
   ]
  },
  {
   "cell_type": "code",
   "execution_count": 23,
   "id": "0bdb8969-0396-47c5-87be-22bc7071c7fa",
   "metadata": {},
   "outputs": [],
   "source": [
    "# Drop irrelevant/redundant columns\n",
    "redundant_cols = ['ID', 'Photo', 'Flag', 'Club Logo', 'Work Rate', 'Real Face',\n",
    "                  'Loaned From', 'Body Type', 'Height', 'Weight', 'Wage', 'Value', 'Release Clause']\n",
    "df_cleaned = df_cleaned.drop(columns=redundant_cols, errors='ignore')\n",
    "\n",
    "# Normalize text: Standardize known club name variations\n",
    "df_cleaned['Club'] = df_cleaned['Club'].replace({\n",
    "    'FC Bayern München': 'Bayern Munich',\n",
    "    'FC Barcelona': 'Barcelona',\n",
    "    'Real Madrid CF': 'Real Madrid'\n",
    "    # Add more mappings if needed\n",
    "})"
   ]
  },
  {
   "cell_type": "markdown",
   "id": "bba2c50f-56f9-4e66-acea-95bc5f606778",
   "metadata": {},
   "source": [
    "# Player Role from Position"
   ]
  },
  {
   "cell_type": "code",
   "execution_count": 25,
   "id": "6b622255-9771-4051-9d89-0dad15fa4d74",
   "metadata": {},
   "outputs": [],
   "source": [
    "def assign_role(position):\n",
    "    if position in ['ST', 'CF', 'LW', 'RW']:\n",
    "        return 'Forward'\n",
    "    elif position in ['CM', 'CDM', 'CAM', 'RM', 'LM']:\n",
    "        return 'Midfielder'\n",
    "    elif position in ['CB', 'LB', 'RB', 'LWB', 'RWB']:\n",
    "        return 'Defender'\n",
    "    elif position == 'GK':\n",
    "        return 'Goalkeeper'\n",
    "    else:\n",
    "        return 'Other'\n",
    "\n",
    "df_cleaned['Player Role'] = df_cleaned['Positions'].apply(assign_role)"
   ]
  },
  {
   "cell_type": "code",
   "execution_count": 26,
   "id": "71c891a7-7fea-41f1-9fd1-549dfce966ba",
   "metadata": {},
   "outputs": [],
   "source": [
    "df_cleaned.to_csv('fifa21_cleaned.csv', index=False)"
   ]
  },
  {
   "cell_type": "markdown",
   "id": "5a53ffb1-bdf3-442b-b508-e3ada8d268d7",
   "metadata": {},
   "source": [
    "# Analyze cleaned data"
   ]
  },
  {
   "cell_type": "code",
   "execution_count": 28,
   "id": "61b9cfee-a53c-4d2a-8dbf-462f25725745",
   "metadata": {},
   "outputs": [],
   "source": [
    "df2 = pd.read_csv('fifa21_cleaned.csv')"
   ]
  },
  {
   "cell_type": "code",
   "execution_count": 29,
   "id": "9eb5cabc-cb96-4d7b-a816-295e438d4036",
   "metadata": {},
   "outputs": [
    {
     "data": {
      "text/html": [
       "<div>\n",
       "<style scoped>\n",
       "    .dataframe tbody tr th:only-of-type {\n",
       "        vertical-align: middle;\n",
       "    }\n",
       "\n",
       "    .dataframe tbody tr th {\n",
       "        vertical-align: top;\n",
       "    }\n",
       "\n",
       "    .dataframe thead th {\n",
       "        text-align: right;\n",
       "    }\n",
       "</style>\n",
       "<table border=\"1\" class=\"dataframe\">\n",
       "  <thead>\n",
       "    <tr style=\"text-align: right;\">\n",
       "      <th></th>\n",
       "      <th>Name</th>\n",
       "      <th>LongName</th>\n",
       "      <th>photoUrl</th>\n",
       "      <th>playerUrl</th>\n",
       "      <th>Nationality</th>\n",
       "      <th>Age</th>\n",
       "      <th>↓OVA</th>\n",
       "      <th>POT</th>\n",
       "      <th>Club</th>\n",
       "      <th>Contract</th>\n",
       "      <th>...</th>\n",
       "      <th>DRI</th>\n",
       "      <th>DEF</th>\n",
       "      <th>PHY</th>\n",
       "      <th>Hits</th>\n",
       "      <th>Height(cm)</th>\n",
       "      <th>Weight(kg)</th>\n",
       "      <th>Wage(€)</th>\n",
       "      <th>Value(€)</th>\n",
       "      <th>Release Clause(€)</th>\n",
       "      <th>Player Role</th>\n",
       "    </tr>\n",
       "  </thead>\n",
       "  <tbody>\n",
       "    <tr>\n",
       "      <th>0</th>\n",
       "      <td>L. Messi</td>\n",
       "      <td>Lionel Messi</td>\n",
       "      <td>https://cdn.sofifa.com/players/158/023/21_60.png</td>\n",
       "      <td>http://sofifa.com/player/158023/lionel-messi/2...</td>\n",
       "      <td>Argentina</td>\n",
       "      <td>33</td>\n",
       "      <td>93</td>\n",
       "      <td>93</td>\n",
       "      <td>\\n\\n\\n\\nFC Barcelona</td>\n",
       "      <td>2021-01-01</td>\n",
       "      <td>...</td>\n",
       "      <td>95</td>\n",
       "      <td>38</td>\n",
       "      <td>65</td>\n",
       "      <td>771</td>\n",
       "      <td>NaN</td>\n",
       "      <td>NaN</td>\n",
       "      <td>560000</td>\n",
       "      <td>103</td>\n",
       "      <td>138</td>\n",
       "      <td>Other</td>\n",
       "    </tr>\n",
       "    <tr>\n",
       "      <th>1</th>\n",
       "      <td>Cristiano Ronaldo</td>\n",
       "      <td>C. Ronaldo dos Santos Aveiro</td>\n",
       "      <td>https://cdn.sofifa.com/players/020/801/21_60.png</td>\n",
       "      <td>http://sofifa.com/player/20801/c-ronaldo-dos-s...</td>\n",
       "      <td>Portugal</td>\n",
       "      <td>35</td>\n",
       "      <td>92</td>\n",
       "      <td>92</td>\n",
       "      <td>\\n\\n\\n\\nJuventus</td>\n",
       "      <td>2021-01-01</td>\n",
       "      <td>...</td>\n",
       "      <td>89</td>\n",
       "      <td>35</td>\n",
       "      <td>77</td>\n",
       "      <td>562</td>\n",
       "      <td>NaN</td>\n",
       "      <td>NaN</td>\n",
       "      <td>220000</td>\n",
       "      <td>63000000</td>\n",
       "      <td>75</td>\n",
       "      <td>Other</td>\n",
       "    </tr>\n",
       "    <tr>\n",
       "      <th>2</th>\n",
       "      <td>J. Oblak</td>\n",
       "      <td>Jan Oblak</td>\n",
       "      <td>https://cdn.sofifa.com/players/200/389/21_60.png</td>\n",
       "      <td>http://sofifa.com/player/200389/jan-oblak/210006/</td>\n",
       "      <td>Slovenia</td>\n",
       "      <td>27</td>\n",
       "      <td>91</td>\n",
       "      <td>93</td>\n",
       "      <td>\\n\\n\\n\\nAtlético Madrid</td>\n",
       "      <td>2021-01-01</td>\n",
       "      <td>...</td>\n",
       "      <td>90</td>\n",
       "      <td>52</td>\n",
       "      <td>90</td>\n",
       "      <td>150</td>\n",
       "      <td>NaN</td>\n",
       "      <td>NaN</td>\n",
       "      <td>125000</td>\n",
       "      <td>120000000</td>\n",
       "      <td>159</td>\n",
       "      <td>Goalkeeper</td>\n",
       "    </tr>\n",
       "    <tr>\n",
       "      <th>3</th>\n",
       "      <td>K. De Bruyne</td>\n",
       "      <td>Kevin De Bruyne</td>\n",
       "      <td>https://cdn.sofifa.com/players/192/985/21_60.png</td>\n",
       "      <td>http://sofifa.com/player/192985/kevin-de-bruyn...</td>\n",
       "      <td>Belgium</td>\n",
       "      <td>29</td>\n",
       "      <td>91</td>\n",
       "      <td>91</td>\n",
       "      <td>\\n\\n\\n\\nManchester City</td>\n",
       "      <td>2021-01-01</td>\n",
       "      <td>...</td>\n",
       "      <td>88</td>\n",
       "      <td>64</td>\n",
       "      <td>78</td>\n",
       "      <td>207</td>\n",
       "      <td>NaN</td>\n",
       "      <td>NaN</td>\n",
       "      <td>370000</td>\n",
       "      <td>129000000</td>\n",
       "      <td>161000000</td>\n",
       "      <td>Other</td>\n",
       "    </tr>\n",
       "    <tr>\n",
       "      <th>4</th>\n",
       "      <td>Neymar Jr</td>\n",
       "      <td>Neymar da Silva Santos Jr.</td>\n",
       "      <td>https://cdn.sofifa.com/players/190/871/21_60.png</td>\n",
       "      <td>http://sofifa.com/player/190871/neymar-da-silv...</td>\n",
       "      <td>Brazil</td>\n",
       "      <td>28</td>\n",
       "      <td>91</td>\n",
       "      <td>91</td>\n",
       "      <td>\\n\\n\\n\\nParis Saint-Germain</td>\n",
       "      <td>2021-01-01</td>\n",
       "      <td>...</td>\n",
       "      <td>94</td>\n",
       "      <td>36</td>\n",
       "      <td>59</td>\n",
       "      <td>595</td>\n",
       "      <td>NaN</td>\n",
       "      <td>NaN</td>\n",
       "      <td>270000</td>\n",
       "      <td>132000000</td>\n",
       "      <td>166</td>\n",
       "      <td>Other</td>\n",
       "    </tr>\n",
       "  </tbody>\n",
       "</table>\n",
       "<p>5 rows × 77 columns</p>\n",
       "</div>"
      ],
      "text/plain": [
       "                Name                      LongName  \\\n",
       "0           L. Messi                  Lionel Messi   \n",
       "1  Cristiano Ronaldo  C. Ronaldo dos Santos Aveiro   \n",
       "2           J. Oblak                     Jan Oblak   \n",
       "3       K. De Bruyne               Kevin De Bruyne   \n",
       "4          Neymar Jr    Neymar da Silva Santos Jr.   \n",
       "\n",
       "                                           photoUrl  \\\n",
       "0  https://cdn.sofifa.com/players/158/023/21_60.png   \n",
       "1  https://cdn.sofifa.com/players/020/801/21_60.png   \n",
       "2  https://cdn.sofifa.com/players/200/389/21_60.png   \n",
       "3  https://cdn.sofifa.com/players/192/985/21_60.png   \n",
       "4  https://cdn.sofifa.com/players/190/871/21_60.png   \n",
       "\n",
       "                                           playerUrl Nationality  Age  ↓OVA  \\\n",
       "0  http://sofifa.com/player/158023/lionel-messi/2...   Argentina   33    93   \n",
       "1  http://sofifa.com/player/20801/c-ronaldo-dos-s...    Portugal   35    92   \n",
       "2  http://sofifa.com/player/200389/jan-oblak/210006/    Slovenia   27    91   \n",
       "3  http://sofifa.com/player/192985/kevin-de-bruyn...     Belgium   29    91   \n",
       "4  http://sofifa.com/player/190871/neymar-da-silv...      Brazil   28    91   \n",
       "\n",
       "   POT                         Club    Contract  ... DRI DEF  PHY Hits  \\\n",
       "0   93         \\n\\n\\n\\nFC Barcelona  2021-01-01  ...  95  38   65  771   \n",
       "1   92             \\n\\n\\n\\nJuventus  2021-01-01  ...  89  35   77  562   \n",
       "2   93      \\n\\n\\n\\nAtlético Madrid  2021-01-01  ...  90  52   90  150   \n",
       "3   91      \\n\\n\\n\\nManchester City  2021-01-01  ...  88  64   78  207   \n",
       "4   91  \\n\\n\\n\\nParis Saint-Germain  2021-01-01  ...  94  36   59  595   \n",
       "\n",
       "  Height(cm) Weight(kg)  Wage(€)   Value(€)  Release Clause(€)  Player Role  \n",
       "0        NaN        NaN   560000        103                138        Other  \n",
       "1        NaN        NaN   220000   63000000                 75        Other  \n",
       "2        NaN        NaN   125000  120000000                159   Goalkeeper  \n",
       "3        NaN        NaN   370000  129000000          161000000        Other  \n",
       "4        NaN        NaN   270000  132000000                166        Other  \n",
       "\n",
       "[5 rows x 77 columns]"
      ]
     },
     "execution_count": 29,
     "metadata": {},
     "output_type": "execute_result"
    }
   ],
   "source": [
    "df2.head(5)"
   ]
  },
  {
   "cell_type": "code",
   "execution_count": 30,
   "id": "d48556c2-3349-4eec-8732-adcaad1b8775",
   "metadata": {},
   "outputs": [],
   "source": [
    "from sqlalchemy import create_engine\n",
    "\n",
    "# Load cleaned dataset\n",
    "df = pd.read_csv(\"fifa21_cleaned.csv\")\n",
    "\n",
    "# Create SQLite connection\n",
    "engine = create_engine('sqlite:///fifa_star_schema.db')\n"
   ]
  },
  {
   "cell_type": "markdown",
   "id": "0c0481c5-3f08-497c-b410-f3ed127b149f",
   "metadata": {},
   "source": [
    "# Create Dimension Tables"
   ]
  },
  {
   "cell_type": "markdown",
   "id": "903e901e-82f1-4220-8c00-3bec926da678",
   "metadata": {},
   "source": [
    "# Player Dimension"
   ]
  },
  {
   "cell_type": "code",
   "execution_count": 33,
   "id": "9e2f15b1-0259-4b05-9d8a-4bcf3287dabf",
   "metadata": {},
   "outputs": [],
   "source": [
    "# ---------------------- Player Dimension ----------------------\n",
    "dim_player = df[['Name', 'Age', 'Height(cm)', 'Weight(kg)']].drop_duplicates().reset_index(drop=True)\n",
    "dim_player['PlayerID'] = dim_player.index + 1\n",
    "dim_player = dim_player[['PlayerID', 'Name', 'Age', 'Height(cm)', 'Weight(kg)']]"
   ]
  },
  {
   "cell_type": "markdown",
   "id": "83f9b5f3-62d0-4c8d-af26-55a2743c4d8e",
   "metadata": {},
   "source": [
    "# Time Dimension"
   ]
  },
  {
   "cell_type": "code",
   "execution_count": 35,
   "id": "ea39cdc5-4516-4cec-8cbc-8031c99d5fd6",
   "metadata": {},
   "outputs": [],
   "source": [
    "# ----------------------  ----------------------\n",
    "df['Contract'] = pd.to_datetime(df['Contract'], errors='coerce')\n",
    "dim_time = df[['Contract']].dropna().drop_duplicates().reset_index(drop=True)\n",
    "dim_time['TimeID'] = dim_time.index + 1\n",
    "dim_time['Year'] = dim_time['Contract'].dt.year\n",
    "dim_time['Month'] = dim_time['Contract'].dt.month\n",
    "dim_time = dim_time[['TimeID', 'Year', 'Month', 'Contract']]"
   ]
  },
  {
   "cell_type": "markdown",
   "id": "4d6e3576-84f6-4a2d-91d9-b89dc945688b",
   "metadata": {},
   "source": [
    "# Club Dimension"
   ]
  },
  {
   "cell_type": "code",
   "execution_count": 37,
   "id": "56ea98aa-db99-4421-9bab-06c1e6df1f88",
   "metadata": {},
   "outputs": [],
   "source": [
    "# ---------------------- Club Dimension ----------------------\n",
    "dim_club = df[['Club']].drop_duplicates().reset_index(drop=True)\n",
    "dim_club['ClubID'] = dim_club.index + 1\n",
    "dim_club['League'] = 'Unknown'  # Placeholder (your dataset doesn't include league_name)\n",
    "dim_club = dim_club[['ClubID', 'Club', 'League']]"
   ]
  },
  {
   "cell_type": "markdown",
   "id": "c023340e-6729-4d10-91e8-045810a442a8",
   "metadata": {},
   "source": [
    "# Nationality Dimension"
   ]
  },
  {
   "cell_type": "code",
   "execution_count": 39,
   "id": "6fba5e67-b403-4b93-97f9-7861875d9d21",
   "metadata": {},
   "outputs": [],
   "source": [
    "# ---------------------- Nationality Dimension ----------------------\n",
    "dim_nationality = df[['Nationality']].drop_duplicates().reset_index(drop=True)\n",
    "dim_nationality['NationalityID'] = dim_nationality.index + 1\n",
    "dim_nationality = dim_nationality[['NationalityID', 'Nationality']]"
   ]
  },
  {
   "cell_type": "markdown",
   "id": "a1d0d637-f906-47e1-bafe-cf90bc1c757b",
   "metadata": {},
   "source": [
    "# Position Dimension "
   ]
  },
  {
   "cell_type": "code",
   "execution_count": 41,
   "id": "ea9b84e9-4a3b-468c-bc15-a91421e20101",
   "metadata": {},
   "outputs": [],
   "source": [
    "# ---------------------- Position Dimension ----------------------\n",
    "position_role_map = {\n",
    "    'ST': 'Forward', 'CF': 'Forward', 'LW': 'Forward', 'RW': 'Forward',\n",
    "    'CM': 'Midfielder', 'CDM': 'Midfielder', 'CAM': 'Midfielder', 'RM': 'Midfielder', 'LM': 'Midfielder',\n",
    "    'CB': 'Defender', 'LB': 'Defender', 'RB': 'Defender', 'LWB': 'Defender', 'RWB': 'Defender',\n",
    "    'GK': 'Goalkeeper'\n",
    "}\n",
    "df['PrimaryPosition'] = df['Positions'].apply(lambda x: x.split(',')[0].strip())\n",
    "df['Role'] = df['PrimaryPosition'].map(position_role_map).fillna('Unknown')\n",
    "\n",
    "dim_position = df[['PrimaryPosition', 'Role']].drop_duplicates().reset_index(drop=True)\n",
    "dim_position['PositionID'] = dim_position.index + 1\n",
    "dim_position = dim_position[['PositionID', 'PrimaryPosition', 'Role']]"
   ]
  },
  {
   "cell_type": "markdown",
   "id": "e07aeebb-567c-49a4-9a8e-7bd7c3cf769d",
   "metadata": {},
   "source": [
    "# Fact Table "
   ]
  },
  {
   "cell_type": "code",
   "execution_count": 43,
   "id": "6f4ad9a2-69f0-4319-a089-5e288c6006c3",
   "metadata": {},
   "outputs": [],
   "source": [
    "# ---------------------- Fact Table ----------------------\n",
    "# Merge to get foreign keys\n",
    "df_fact = df.merge(dim_player, on=['Name', 'Age', 'Height(cm)', 'Weight(kg)']) \\\n",
    "            .merge(dim_time, on='Contract') \\\n",
    "            .merge(dim_club, on='Club') \\\n",
    "            .merge(dim_nationality, on='Nationality') \\\n",
    "            .merge(dim_position, left_on='PrimaryPosition', right_on='PrimaryPosition')\n",
    "\n",
    "df_fact['Wage'] = df_fact['Wage(€)'].replace('[\\€,]', '', regex=True).replace('K', '000', regex=True).astype(str).str.replace(r'[^\\d]', '', regex=True).astype(float)\n",
    "\n",
    "fact_table = df_fact[['PlayerID', 'TimeID', 'ClubID', 'NationalityID', 'PositionID', '↓OVA', 'Wage']]\n",
    "fact_table = fact_table.rename(columns={'↓OVA': 'OverallRating', 'Wage': 'Wages'})"
   ]
  },
  {
   "cell_type": "markdown",
   "id": "a6d78dfd-fbff-490e-8ba2-f66264600323",
   "metadata": {},
   "source": [
    "# Star Schema Diagram"
   ]
  },
  {
   "cell_type": "code",
   "execution_count": 45,
   "id": "2727d6fe-5601-41fd-8e64-08d6aa453d14",
   "metadata": {},
   "outputs": [
    {
     "name": "stdout",
     "output_type": "stream",
     "text": [
      "Requirement already satisfied: rich in c:\\users\\burhan\\anaconda3\\lib\\site-packages (13.7.1)\n",
      "Requirement already satisfied: markdown-it-py>=2.2.0 in c:\\users\\burhan\\anaconda3\\lib\\site-packages (from rich) (2.2.0)\n",
      "Requirement already satisfied: pygments<3.0.0,>=2.13.0 in c:\\users\\burhan\\anaconda3\\lib\\site-packages (from rich) (2.15.1)\n",
      "Requirement already satisfied: mdurl~=0.1 in c:\\users\\burhan\\anaconda3\\lib\\site-packages (from markdown-it-py>=2.2.0->rich) (0.1.0)\n",
      "Note: you may need to restart the kernel to use updated packages.\n"
     ]
    }
   ],
   "source": [
    "pip install rich"
   ]
  },
  {
   "cell_type": "code",
   "execution_count": 46,
   "id": "32941e3b-603a-4c76-9255-687c37509dd0",
   "metadata": {},
   "outputs": [
    {
     "data": {
      "text/html": [
       "<pre style=\"white-space:pre;overflow-x:auto;line-height:normal;font-family:Menlo,'DejaVu Sans Mono',consolas,'Courier New',monospace\">\n",
       "                   ┌──────────────┐\n",
       "                   │  TimeDim     │\n",
       "                   │  TimeID (PK) │\n",
       "                   │  Year        │\n",
       "                   │  Month       │\n",
       "                   └─────┬────────┘\n",
       "                         │\n",
       " ┌──────────────┐   ┌────▼─────┐   ┌──────────────┐   ┌─────────────────┐   ┌──────────────┐\n",
       " │ PlayerDim    │   │ Fact     │   │ ClubDim      │   │ NationalityDim  │   │ PositionDim  │\n",
       " │ PlayerID (PK)│◄──▶ Table    │◄──▶ ClubID (PK)  │◄──▶ NationalityID  │◄──▶ PositionID   │\n",
       " │ Name         │   │ PlayerID │   │ ClubName     │   │ Country         │   │ Position     │\n",
       " │ Age          │   │ TimeID   │   │ League       │   └─────────────────┘   │ Role         │\n",
       " │ Height       │   │ ClubID   │   └──────────────┘                        └──────────────┘\n",
       " │ Weight       │   │ NatID    │\n",
       " └──────────────┘   │ PosID    │\n",
       "                    │ Rating   │\n",
       "                    │ Wages    │\n",
       "                    └──────────┘\n",
       "\n",
       "</pre>\n"
      ],
      "text/plain": [
       "\n",
       "                   ┌──────────────┐\n",
       "                   │  TimeDim     │\n",
       "                   │  TimeID (PK) │\n",
       "                   │  Year        │\n",
       "                   │  Month       │\n",
       "                   └─────┬────────┘\n",
       "                         │\n",
       " ┌──────────────┐   ┌────▼─────┐   ┌──────────────┐   ┌─────────────────┐   ┌──────────────┐\n",
       " │ PlayerDim    │   │ Fact     │   │ ClubDim      │   │ NationalityDim  │   │ PositionDim  │\n",
       " │ PlayerID (PK)│◄──▶ Table    │◄──▶ ClubID (PK)  │◄──▶ NationalityID  │◄──▶ PositionID   │\n",
       " │ Name         │   │ PlayerID │   │ ClubName     │   │ Country         │   │ Position     │\n",
       " │ Age          │   │ TimeID   │   │ League       │   └─────────────────┘   │ Role         │\n",
       " │ Height       │   │ ClubID   │   └──────────────┘                        └──────────────┘\n",
       " │ Weight       │   │ NatID    │\n",
       " └──────────────┘   │ PosID    │\n",
       "                    │ Rating   │\n",
       "                    │ Wages    │\n",
       "                    └──────────┘\n",
       "\n"
      ]
     },
     "metadata": {},
     "output_type": "display_data"
    }
   ],
   "source": [
    "from rich.console import Console\n",
    "from rich.text import Text\n",
    "\n",
    "console = Console()\n",
    "\n",
    "schema_diagram = Text(\"\"\"\n",
    "                   ┌──────────────┐\n",
    "                   │  TimeDim     │\n",
    "                   │  TimeID (PK) │\n",
    "                   │  Year        │\n",
    "                   │  Month       │\n",
    "                   └─────┬────────┘\n",
    "                         │\n",
    " ┌──────────────┐   ┌────▼─────┐   ┌──────────────┐   ┌─────────────────┐   ┌──────────────┐\n",
    " │ PlayerDim    │   │ Fact     │   │ ClubDim      │   │ NationalityDim  │   │ PositionDim  │\n",
    " │ PlayerID (PK)│◄──▶ Table    │◄──▶ ClubID (PK)  │◄──▶ NationalityID  │◄──▶ PositionID   │\n",
    " │ Name         │   │ PlayerID │   │ ClubName     │   │ Country         │   │ Position     │\n",
    " │ Age          │   │ TimeID   │   │ League       │   └─────────────────┘   │ Role         │\n",
    " │ Height       │   │ ClubID   │   └──────────────┘                        └──────────────┘\n",
    " │ Weight       │   │ NatID    │\n",
    " └──────────────┘   │ PosID    │\n",
    "                    │ Rating   │\n",
    "                    │ Wages    │\n",
    "                    └──────────┘\n",
    "\"\"\")\n",
    "\n",
    "console.print(schema_diagram)\n"
   ]
  },
  {
   "cell_type": "code",
   "execution_count": 47,
   "id": "2a6631ce-05ff-4a69-b49b-8c4adf2d98db",
   "metadata": {},
   "outputs": [],
   "source": [
    "import sqlite3\n",
    "\n",
    "# Connect to SQLite (creates FIFA21_DWH.db if it doesn't exist)\n",
    "conn = sqlite3.connect('fifa_star_schema.db')\n",
    "cursor = conn.cursor()\n",
    "\n"
   ]
  },
  {
   "cell_type": "code",
   "execution_count": 51,
   "id": "754d9f8b-3a4e-48f8-b7c8-96de5831304d",
   "metadata": {},
   "outputs": [],
   "source": [
    "table_creation_queries = [\n",
    "    \"\"\"\n",
    "    CREATE TABLE IF NOT EXISTS PlayerDim (\n",
    "        PlayerID INTEGER PRIMARY KEY,\n",
    "        Name TEXT,\n",
    "        Age INTEGER,\n",
    "        Height_cm INTEGER,\n",
    "        Weight_kg INTEGER\n",
    "    )\n",
    "    \"\"\",\n",
    "    \"\"\"\n",
    "    CREATE TABLE IF NOT EXISTS ClubDim (\n",
    "        ClubID INTEGER PRIMARY KEY,\n",
    "        ClubName TEXT,\n",
    "        League TEXT\n",
    "    )\n",
    "    \"\"\",\n",
    "    \"\"\"\n",
    "    CREATE TABLE IF NOT EXISTS NationalityDim (\n",
    "        NationalityID INTEGER PRIMARY KEY,\n",
    "        Nationality TEXT\n",
    "    )\n",
    "    \"\"\",\n",
    "    \"\"\"\n",
    "    CREATE TABLE IF NOT EXISTS PositionDim (\n",
    "        PositionID INTEGER PRIMARY KEY,\n",
    "        Position TEXT\n",
    "    )\n",
    "    \"\"\",\n",
    "    \"\"\"\n",
    "    CREATE TABLE IF NOT EXISTS TimeDim (\n",
    "        TimeID INTEGER PRIMARY KEY,\n",
    "        Year INTEGER,\n",
    "        Month INTEGER\n",
    "    )\n",
    "    \"\"\",\n",
    "    \"\"\"\n",
    "    CREATE TABLE IF NOT EXISTS PlayerPerformance (\n",
    "        PlayerID INTEGER,\n",
    "        ClubID INTEGER,\n",
    "        NationalityID INTEGER,\n",
    "        PositionID INTEGER,\n",
    "        TimeID INTEGER,\n",
    "        Overall INTEGER,\n",
    "        Wage_EUR INTEGER,\n",
    "        FOREIGN KEY (PlayerID) REFERENCES PlayerDim(PlayerID),\n",
    "        FOREIGN KEY (ClubID) REFERENCES ClubDim(ClubID),\n",
    "        FOREIGN KEY (NationalityID) REFERENCES NationalityDim(NationalityID),\n",
    "        FOREIGN KEY (PositionID) REFERENCES PositionDim(PositionID),\n",
    "        FOREIGN KEY (TimeID) REFERENCES TimeDim(TimeID)\n",
    "    )\n",
    "    \"\"\"\n",
    "]\n",
    "\n",
    "for query in table_creation_queries:\n",
    "    cursor.execute(query)\n",
    "\n",
    "conn.commit()\n"
   ]
  },
  {
   "cell_type": "code",
   "execution_count": 53,
   "id": "4d0da47d-c24f-4fd3-9780-9c7c3a671cd0",
   "metadata": {},
   "outputs": [],
   "source": [
    "\n",
    "tables = {\n",
    "    'PlayerDim': pd.read_csv('PlayerDim.csv').rename(columns={\n",
    "        'Height(cm)': 'Height_cm', 'Weight(kg)': 'Weight_kg'\n",
    "    }),\n",
    "    'ClubDim': pd.read_csv('ClubDim.csv').rename(columns={\n",
    "        'Club': 'ClubName'\n",
    "    }),\n",
    "    'NationalityDim': pd.read_csv('NationalityDim.csv'),\n",
    "    'PositionDim': pd.read_csv('PositionDim.csv').rename(columns={\n",
    "        'PrimaryPosition': 'Position'\n",
    "    }),\n",
    "    'TimeDim': pd.read_csv('TimeDim.csv').drop(columns=['Contract'], errors='ignore'),\n",
    "    'PlayerPerformance': pd.read_csv('PlayerPerformance.csv').rename(columns={\n",
    "        'OverallRating': 'Overall', 'Wages': 'Wage_EUR'\n",
    "    })\n",
    "}"
   ]
  },
  {
   "cell_type": "code",
   "execution_count": 59,
   "id": "96b442d3-12d4-4e5a-adce-1fa7503743bb",
   "metadata": {},
   "outputs": [],
   "source": [
    "tables['PlayerDim'] = tables['PlayerDim'].drop_duplicates(subset='PlayerID')\n",
    "tables['ClubDim'] = tables['ClubDim'].drop_duplicates(subset='ClubID')\n",
    "tables['NationalityDim'] = tables['NationalityDim'].drop_duplicates(subset='NationalityID')\n",
    "tables['PositionDim'] = tables['PositionDim'].drop_duplicates(subset='PositionID')\n",
    "tables['TimeDim'] = tables['TimeDim'].drop_duplicates(subset='TimeID')"
   ]
  },
  {
   "cell_type": "code",
   "execution_count": 61,
   "id": "186e1f6d-292b-4bb6-a714-3ce8a30ab4aa",
   "metadata": {},
   "outputs": [],
   "source": [
    "for table_name, df in tables.items():\n",
    "    df.to_sql(table_name, conn, if_exists='replace', index=False)"
   ]
  },
  {
   "cell_type": "markdown",
   "id": "a1b7407b-5037-42b8-8441-75f4316264cb",
   "metadata": {},
   "source": [
    "# Validate the Load"
   ]
  },
  {
   "cell_type": "code",
   "execution_count": 66,
   "id": "3d945887-676d-4ece-822a-c753d923edcb",
   "metadata": {},
   "outputs": [
    {
     "name": "stdout",
     "output_type": "stream",
     "text": [
      "PlayerDim has 18891 rows.\n",
      "ClubDim has 682 rows.\n",
      "NationalityDim has 164 rows.\n",
      "PositionDim has 15 rows.\n",
      "TimeDim has 1 rows.\n",
      "PlayerPerformance has 18979 rows.\n"
     ]
    }
   ],
   "source": [
    "for table in tables.keys():\n",
    "    cursor.execute(f\"SELECT COUNT(*) FROM {table}\")\n",
    "    count = cursor.fetchone()[0]\n",
    "    print(f\"{table} has {count} rows.\")\n"
   ]
  },
  {
   "cell_type": "markdown",
   "id": "84482e43-6daf-4cfe-aa52-bc22f4f24075",
   "metadata": {},
   "source": [
    "# Foreign Key Integrity"
   ]
  },
  {
   "cell_type": "code",
   "execution_count": 68,
   "id": "0e106722-6f38-4184-ab6a-1e914320d21c",
   "metadata": {},
   "outputs": [
    {
     "name": "stdout",
     "output_type": "stream",
     "text": [
      "Orphaned PlayerID in PlayerPerformance: 0\n",
      "Orphaned ClubID in PlayerPerformance: 0\n",
      "Orphaned NationalityID in PlayerPerformance: 0\n",
      "Orphaned PositionID in PlayerPerformance: 0\n",
      "Orphaned TimeID in PlayerPerformance: 0\n"
     ]
    }
   ],
   "source": [
    "checks = [\n",
    "    (\"PlayerID\", \"PlayerDim\"),\n",
    "    (\"ClubID\", \"ClubDim\"),\n",
    "    (\"NationalityID\", \"NationalityDim\"),\n",
    "    (\"PositionID\", \"PositionDim\"),\n",
    "    (\"TimeID\", \"TimeDim\")\n",
    "]\n",
    "\n",
    "for fk, dim in checks:\n",
    "    cursor.execute(f\"\"\"\n",
    "        SELECT COUNT(*) FROM PlayerPerformance \n",
    "        WHERE {fk} NOT IN (SELECT {fk} FROM {dim})\n",
    "    \"\"\")\n",
    "    print(f\"Orphaned {fk} in PlayerPerformance: {cursor.fetchone()[0]}\")\n"
   ]
  },
  {
   "cell_type": "code",
   "execution_count": 75,
   "id": "d75e191a-d585-433f-a4a1-f9f75cfc9544",
   "metadata": {},
   "outputs": [
    {
     "name": "stdout",
     "output_type": "stream",
     "text": [
      "   cid      name     type  notnull dflt_value  pk\n",
      "0    0    ClubID  INTEGER        0       None   0\n",
      "1    1  ClubName     TEXT        0       None   0\n",
      "2    2    League     TEXT        0       None   0\n"
     ]
    }
   ],
   "source": [
    "df_clubdim = pd.read_sql_query(\"PRAGMA table_info(ClubDim);\", conn)\n",
    "print(df_clubdim)\n"
   ]
  },
  {
   "cell_type": "code",
   "execution_count": 81,
   "id": "6563e823-b367-4ac7-bcdd-dcdf6bd52b0c",
   "metadata": {},
   "outputs": [
    {
     "name": "stdout",
     "output_type": "stream",
     "text": [
      "                    ClubName  AvgRating\n",
      "0  \\n\\n\\n\\nFC Bayern München      81.48\n",
      "1        \\n\\n\\n\\nReal Madrid      79.77\n",
      "2              \\n\\n\\n\\nInter      79.35\n",
      "3             \\n\\n\\n\\nNapoli      78.69\n",
      "4            \\n\\n\\n\\nChelsea      78.18\n"
     ]
    }
   ],
   "source": [
    "query1 = \"\"\"\n",
    "SELECT c.ClubName, ROUND(AVG(p.Overall), 2) AS AvgRating\n",
    "FROM PlayerPerformance p\n",
    "JOIN ClubDim c ON p.ClubID = c.ClubID\n",
    "GROUP BY c.ClubName\n",
    "ORDER BY AvgRating DESC;\n",
    "\"\"\"\n",
    "\n",
    "df_query1 = pd.read_sql_query(query1, conn)\n",
    "print(df_query1.head())\n"
   ]
  },
  {
   "cell_type": "code",
   "execution_count": 87,
   "id": "3aa7dd15-c799-4eab-afb0-291226e2319b",
   "metadata": {},
   "outputs": [
    {
     "name": "stdout",
     "output_type": "stream",
     "text": [
      "  Nationality        Role  TotalWages\n",
      "0     England    Defender   6052100.0\n",
      "1       Spain  Midfielder   5936100.0\n",
      "2     England  Midfielder   5880200.0\n",
      "3       Spain    Defender   5578250.0\n",
      "4      Brazil  Midfielder   5558500.0\n"
     ]
    }
   ],
   "source": [
    "query2 = '''\n",
    "SELECT n.Nationality, pos.Role, ROUND(SUM(p.Wage_EUR), 2) AS TotalWages\n",
    "FROM PlayerPerformance p\n",
    "JOIN NationalityDim n ON p.NationalityID = n.NationalityID\n",
    "JOIN PositionDim pos ON p.PositionID = pos.PositionID\n",
    "GROUP BY n.Nationality, pos.Role\n",
    "ORDER BY TotalWages DESC;\n",
    "'''\n",
    "\n",
    "df_query2 = pd.read_sql_query(query2, conn)\n",
    "print(df_query2.head())\n"
   ]
  },
  {
   "cell_type": "code",
   "execution_count": 89,
   "id": "b48252c5-98b0-4d71-a957-a81446e9a07c",
   "metadata": {},
   "outputs": [
    {
     "data": {
      "text/html": [
       "<div>\n",
       "<style scoped>\n",
       "    .dataframe tbody tr th:only-of-type {\n",
       "        vertical-align: middle;\n",
       "    }\n",
       "\n",
       "    .dataframe tbody tr th {\n",
       "        vertical-align: top;\n",
       "    }\n",
       "\n",
       "    .dataframe thead th {\n",
       "        text-align: right;\n",
       "    }\n",
       "</style>\n",
       "<table border=\"1\" class=\"dataframe\">\n",
       "  <thead>\n",
       "    <tr style=\"text-align: right;\">\n",
       "      <th></th>\n",
       "      <th>cid</th>\n",
       "      <th>name</th>\n",
       "      <th>type</th>\n",
       "      <th>notnull</th>\n",
       "      <th>dflt_value</th>\n",
       "      <th>pk</th>\n",
       "    </tr>\n",
       "  </thead>\n",
       "  <tbody>\n",
       "    <tr>\n",
       "      <th>0</th>\n",
       "      <td>0</td>\n",
       "      <td>PlayerID</td>\n",
       "      <td>INTEGER</td>\n",
       "      <td>0</td>\n",
       "      <td>None</td>\n",
       "      <td>0</td>\n",
       "    </tr>\n",
       "    <tr>\n",
       "      <th>1</th>\n",
       "      <td>1</td>\n",
       "      <td>Name</td>\n",
       "      <td>TEXT</td>\n",
       "      <td>0</td>\n",
       "      <td>None</td>\n",
       "      <td>0</td>\n",
       "    </tr>\n",
       "    <tr>\n",
       "      <th>2</th>\n",
       "      <td>2</td>\n",
       "      <td>Age</td>\n",
       "      <td>INTEGER</td>\n",
       "      <td>0</td>\n",
       "      <td>None</td>\n",
       "      <td>0</td>\n",
       "    </tr>\n",
       "    <tr>\n",
       "      <th>3</th>\n",
       "      <td>3</td>\n",
       "      <td>Height_cm</td>\n",
       "      <td>REAL</td>\n",
       "      <td>0</td>\n",
       "      <td>None</td>\n",
       "      <td>0</td>\n",
       "    </tr>\n",
       "    <tr>\n",
       "      <th>4</th>\n",
       "      <td>4</td>\n",
       "      <td>Weight_kg</td>\n",
       "      <td>REAL</td>\n",
       "      <td>0</td>\n",
       "      <td>None</td>\n",
       "      <td>0</td>\n",
       "    </tr>\n",
       "  </tbody>\n",
       "</table>\n",
       "</div>"
      ],
      "text/plain": [
       "   cid       name     type  notnull dflt_value  pk\n",
       "0    0   PlayerID  INTEGER        0       None   0\n",
       "1    1       Name     TEXT        0       None   0\n",
       "2    2        Age  INTEGER        0       None   0\n",
       "3    3  Height_cm     REAL        0       None   0\n",
       "4    4  Weight_kg     REAL        0       None   0"
      ]
     },
     "execution_count": 89,
     "metadata": {},
     "output_type": "execute_result"
    }
   ],
   "source": [
    "pd.read_sql_query(\"PRAGMA table_info(PlayerDim);\", conn)\n"
   ]
  },
  {
   "cell_type": "code",
   "execution_count": 91,
   "id": "bda450ca-9544-47e6-9160-24400d8e6088",
   "metadata": {},
   "outputs": [
    {
     "data": {
      "text/html": [
       "<div>\n",
       "<style scoped>\n",
       "    .dataframe tbody tr th:only-of-type {\n",
       "        vertical-align: middle;\n",
       "    }\n",
       "\n",
       "    .dataframe tbody tr th {\n",
       "        vertical-align: top;\n",
       "    }\n",
       "\n",
       "    .dataframe thead th {\n",
       "        text-align: right;\n",
       "    }\n",
       "</style>\n",
       "<table border=\"1\" class=\"dataframe\">\n",
       "  <thead>\n",
       "    <tr style=\"text-align: right;\">\n",
       "      <th></th>\n",
       "      <th>cid</th>\n",
       "      <th>name</th>\n",
       "      <th>type</th>\n",
       "      <th>notnull</th>\n",
       "      <th>dflt_value</th>\n",
       "      <th>pk</th>\n",
       "    </tr>\n",
       "  </thead>\n",
       "  <tbody>\n",
       "    <tr>\n",
       "      <th>0</th>\n",
       "      <td>0</td>\n",
       "      <td>TimeID</td>\n",
       "      <td>INTEGER</td>\n",
       "      <td>0</td>\n",
       "      <td>None</td>\n",
       "      <td>0</td>\n",
       "    </tr>\n",
       "    <tr>\n",
       "      <th>1</th>\n",
       "      <td>1</td>\n",
       "      <td>Year</td>\n",
       "      <td>INTEGER</td>\n",
       "      <td>0</td>\n",
       "      <td>None</td>\n",
       "      <td>0</td>\n",
       "    </tr>\n",
       "    <tr>\n",
       "      <th>2</th>\n",
       "      <td>2</td>\n",
       "      <td>Month</td>\n",
       "      <td>INTEGER</td>\n",
       "      <td>0</td>\n",
       "      <td>None</td>\n",
       "      <td>0</td>\n",
       "    </tr>\n",
       "  </tbody>\n",
       "</table>\n",
       "</div>"
      ],
      "text/plain": [
       "   cid    name     type  notnull dflt_value  pk\n",
       "0    0  TimeID  INTEGER        0       None   0\n",
       "1    1    Year  INTEGER        0       None   0\n",
       "2    2   Month  INTEGER        0       None   0"
      ]
     },
     "execution_count": 91,
     "metadata": {},
     "output_type": "execute_result"
    }
   ],
   "source": [
    "pd.read_sql_query(\"PRAGMA table_info(TimeDim);\", conn)\n",
    "\n"
   ]
  },
  {
   "cell_type": "code",
   "execution_count": 93,
   "id": "cd7a45c3-1bd9-4db7-bdd8-52d07576bef2",
   "metadata": {},
   "outputs": [
    {
     "data": {
      "text/html": [
       "<div>\n",
       "<style scoped>\n",
       "    .dataframe tbody tr th:only-of-type {\n",
       "        vertical-align: middle;\n",
       "    }\n",
       "\n",
       "    .dataframe tbody tr th {\n",
       "        vertical-align: top;\n",
       "    }\n",
       "\n",
       "    .dataframe thead th {\n",
       "        text-align: right;\n",
       "    }\n",
       "</style>\n",
       "<table border=\"1\" class=\"dataframe\">\n",
       "  <thead>\n",
       "    <tr style=\"text-align: right;\">\n",
       "      <th></th>\n",
       "      <th>cid</th>\n",
       "      <th>name</th>\n",
       "      <th>type</th>\n",
       "      <th>notnull</th>\n",
       "      <th>dflt_value</th>\n",
       "      <th>pk</th>\n",
       "    </tr>\n",
       "  </thead>\n",
       "  <tbody>\n",
       "    <tr>\n",
       "      <th>0</th>\n",
       "      <td>0</td>\n",
       "      <td>TimeID</td>\n",
       "      <td>INTEGER</td>\n",
       "      <td>0</td>\n",
       "      <td>None</td>\n",
       "      <td>0</td>\n",
       "    </tr>\n",
       "    <tr>\n",
       "      <th>1</th>\n",
       "      <td>1</td>\n",
       "      <td>Year</td>\n",
       "      <td>INTEGER</td>\n",
       "      <td>0</td>\n",
       "      <td>None</td>\n",
       "      <td>0</td>\n",
       "    </tr>\n",
       "    <tr>\n",
       "      <th>2</th>\n",
       "      <td>2</td>\n",
       "      <td>Month</td>\n",
       "      <td>INTEGER</td>\n",
       "      <td>0</td>\n",
       "      <td>None</td>\n",
       "      <td>0</td>\n",
       "    </tr>\n",
       "  </tbody>\n",
       "</table>\n",
       "</div>"
      ],
      "text/plain": [
       "   cid    name     type  notnull dflt_value  pk\n",
       "0    0  TimeID  INTEGER        0       None   0\n",
       "1    1    Year  INTEGER        0       None   0\n",
       "2    2   Month  INTEGER        0       None   0"
      ]
     },
     "execution_count": 93,
     "metadata": {},
     "output_type": "execute_result"
    }
   ],
   "source": [
    "pd.read_sql_query(\"PRAGMA table_info(TimeDim);\", conn)\n"
   ]
  },
  {
   "cell_type": "code",
   "execution_count": 95,
   "id": "8d36fb45-6ab0-48d9-ab24-2aee448ec865",
   "metadata": {},
   "outputs": [
    {
     "name": "stdout",
     "output_type": "stream",
     "text": [
      "Empty DataFrame\n",
      "Columns: [Name, Height_cm]\n",
      "Index: []\n"
     ]
    }
   ],
   "source": [
    "query3 = \"\"\"\n",
    "SELECT pd.Name, pd.Height_cm\n",
    "FROM PlayerPerformance p\n",
    "JOIN PlayerDim pd ON p.PlayerID = pd.PlayerID\n",
    "JOIN TimeDim t ON p.TimeID = t.TimeID\n",
    "WHERE t.Year = 2024\n",
    "ORDER BY pd.Height_cm DESC\n",
    "LIMIT 5;\n",
    "\"\"\"\n",
    "\n",
    "df_query3 = pd.read_sql_query(query3, conn)\n",
    "print(df_query3)\n"
   ]
  },
  {
   "cell_type": "code",
   "execution_count": 97,
   "id": "20f31764-ccf1-4954-9235-b7d024ef251a",
   "metadata": {},
   "outputs": [
    {
     "name": "stdout",
     "output_type": "stream",
     "text": [
      "   Year        Role  AvgOverall\n",
      "0  2021    Defender       65.94\n",
      "1  2021  Midfielder       65.85\n",
      "2  2021     Forward       65.68\n",
      "3  2021  Goalkeeper       64.65\n"
     ]
    }
   ],
   "source": [
    "query4 = \"\"\"\n",
    "SELECT t.Year, pos.Role, ROUND(AVG(p.Overall), 2) AS AvgOverall\n",
    "FROM PlayerPerformance p\n",
    "JOIN TimeDim t ON p.TimeID = t.TimeID\n",
    "JOIN PositionDim pos ON p.PositionID = pos.PositionID\n",
    "GROUP BY t.Year, pos.Role\n",
    "ORDER BY t.Year, AvgOverall DESC;\n",
    "\"\"\"\n",
    "\n",
    "df_query4 = pd.read_sql_query(query4, conn)\n",
    "print(df_query4)\n"
   ]
  },
  {
   "cell_type": "code",
   "execution_count": 99,
   "id": "c6b28100-199b-436d-85eb-54beaed3f926",
   "metadata": {},
   "outputs": [
    {
     "name": "stdout",
     "output_type": "stream",
     "text": [
      "    League  WageToRatingRatio\n",
      "0  Unknown            1939.01\n"
     ]
    }
   ],
   "source": [
    "query5 = \"\"\"\n",
    "SELECT c.League, \n",
    "       ROUND(AVG(p.Wage_EUR / p.Overall), 2) AS WageToRatingRatio\n",
    "FROM PlayerPerformance p\n",
    "JOIN ClubDim c ON p.ClubID = c.ClubID\n",
    "WHERE p.Overall >= 85\n",
    "GROUP BY c.League\n",
    "ORDER BY WageToRatingRatio DESC;\n",
    "\"\"\"\n",
    "\n",
    "df_query5 = pd.read_sql_query(query5, conn)\n",
    "print(df_query5)\n"
   ]
  },
  {
   "cell_type": "code",
   "execution_count": null,
   "id": "98135d37-bd4d-4eef-9773-67e0f119bba3",
   "metadata": {},
   "outputs": [],
   "source": []
  }
 ],
 "metadata": {
  "kernelspec": {
   "display_name": "Python 3 (ipykernel)",
   "language": "python",
   "name": "python3"
  },
  "language_info": {
   "codemirror_mode": {
    "name": "ipython",
    "version": 3
   },
   "file_extension": ".py",
   "mimetype": "text/x-python",
   "name": "python",
   "nbconvert_exporter": "python",
   "pygments_lexer": "ipython3",
   "version": "3.12.7"
  }
 },
 "nbformat": 4,
 "nbformat_minor": 5
}
